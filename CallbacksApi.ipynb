{
 "cells": [
  {
   "cell_type": "code",
   "execution_count": 34,
   "metadata": {
    "collapsed": true
   },
   "outputs": [],
   "source": [
    "import torch.nn.functional as F\n",
    "from torch import nn\n",
    "from pathlib import Path\n",
    "from IPython.core.debugger import set_trace\n",
    "from fastai import datasets\n",
    "import pickle,gzip,math,torch,matplotlib as mpl\n",
    "import matplotlib.pyplot as plt\n",
    "from torch import tensor\n",
    "import pandas as pd\n",
    "pd.DataFrame.isna = lambda x : x.isnull()\n",
    "\n",
    "def get_data():\n",
    "    mnist_url='http://deeplearning.net/data/mnist/mnist.pkl'\n",
    "    path = datasets.download_data(mnist_url,ext='.gz')\n",
    "    with gzip.open(path,'rb') as f:\n",
    "        ((x_train, y_train), (x_valid,y_valid), _) = pickle.load(f,encoding='latin-1')\n",
    "    #return map(tensor,(x_train,y_train,x_valid,y_valid))\n",
    "    return x_train,y_train,x_valid,y_valid\n",
    "def normalize(x,m,s):\n",
    "    return (x-m)/s\n",
    "mpl.rcParams['image.cmap'] = 'gray'"
   ]
  },
  {
   "cell_type": "code",
   "execution_count": 14,
   "metadata": {
    "collapsed": true
   },
   "outputs": [],
   "source": [
    "x_train,y_train,x_valid,y_valid = get_data()\n",
    "m,s = x_train.mean(),x_train.std()\n",
    "x_train = normalize(x_train,m,s)\n",
    "x_valid = normalize(x_valid,m,s)"
   ]
  },
  {
   "cell_type": "code",
   "execution_count": 20,
   "metadata": {
    "collapsed": true
   },
   "outputs": [],
   "source": [
    "import pandas as pd\n",
    "x_train = pd.DataFrame(x_train)\n",
    "x_train['clase'] = y_train\n",
    "\n",
    "x_valid = pd.DataFrame(x_valid)\n",
    "x_valid['clase'] = y_valid\n",
    "df = x_train.append(x_valid).reset_index(drop=True)\n",
    "ids = [x_train.shape[0]+i for i in range(x_valid.shape[0])]"
   ]
  },
  {
   "cell_type": "code",
   "execution_count": 35,
   "metadata": {
    "collapsed": true
   },
   "outputs": [],
   "source": [
    "from fastai.tabular import *"
   ]
  },
  {
   "cell_type": "code",
   "execution_count": 235,
   "metadata": {
    "collapsed": true
   },
   "outputs": [],
   "source": [
    "data = TabularDataBunch.from_df(df=df,valid_idx=ids,path='.',dep_var='clase',bs=1024,cont_names=[i for i in range(784)])"
   ]
  },
  {
   "cell_type": "code",
   "execution_count": 248,
   "metadata": {},
   "outputs": [],
   "source": [
    "data.show_batch(rows=5)"
   ]
  },
  {
   "cell_type": "code",
   "execution_count": 237,
   "metadata": {
    "collapsed": true
   },
   "outputs": [],
   "source": [
    "learn = tabular_learner(data,layers=[10,10,5],metrics=accuracy)"
   ]
  },
  {
   "cell_type": "code",
   "execution_count": 242,
   "metadata": {
    "collapsed": true
   },
   "outputs": [],
   "source": [
    "class ModelSaver(Callback):\n",
    "    def __init__(self,fname,learn):\n",
    "        self.best_accuracy=0\n",
    "        self.fname=fname\n",
    "        self.model=learn  \n",
    "        with open(f'{self.fname}_stats.csv','w') as f:\n",
    "            f.write('freeze,lr,train_loss,valid_loss,accuracy'+\"\\n\")\n",
    "        self.best_score = 0\n",
    "        \n",
    "    def on_epoch_end(self,last_metrics='last_metrics',smooth_loss='smooth_loss', **kwargs:Any):        \n",
    "        line = str('Freeze'if self.freeze else 'Unfreeze')\n",
    "        line += \",\"+str(self.max_lr)\n",
    "        line += \",\"+str(round(smooth_loss.item(),4))\n",
    "        line += \",\"+ str(round(last_metrics[0].item(),4))\n",
    "        line += \",\"+ str(round(last_metrics[1].item(),4))        \n",
    "        with open(f'{self.fname}_stats.csv','a') as f:\n",
    "            f.write(line+\"\\n\")\n",
    "        \n",
    "        if self.best_score<round(last_metrics[1].item(),4):\n",
    "            self.best_score = round(last_metrics[1].item(),4)\n",
    "            self.model.save(f\"{self.fname}\")\n",
    "    \n",
    "    def read(self):\n",
    "        return pd.read_csv(f\"{self.fname}_stats.csv\")\n",
    "        \n",
    "    def fit(self,n,lr,freeze=False,**kwargs):\n",
    "        self.max_lr=lr\n",
    "        self.freeze=freeze\n",
    "        if freeze:\n",
    "            self.model.freeze()\n",
    "        else:\n",
    "            self.model.unfreeze()\n",
    "        self.model.fit_one_cycle(n,lr,callbacks=[self],**kwargs)"
   ]
  },
  {
   "cell_type": "code",
   "execution_count": 244,
   "metadata": {
    "collapsed": true
   },
   "outputs": [],
   "source": [
    "model = ModelSaver('mati',learn)"
   ]
  },
  {
   "cell_type": "code",
   "execution_count": 246,
   "metadata": {},
   "outputs": [
    {
     "data": {
      "text/html": [
       "<table border=\"1\" class=\"dataframe\">\n",
       "  <thead>\n",
       "    <tr style=\"text-align: left;\">\n",
       "      <th>epoch</th>\n",
       "      <th>train_loss</th>\n",
       "      <th>valid_loss</th>\n",
       "      <th>accuracy</th>\n",
       "      <th>time</th>\n",
       "    </tr>\n",
       "  </thead>\n",
       "  <tbody>\n",
       "    <tr>\n",
       "      <td>0</td>\n",
       "      <td>1.350181</td>\n",
       "      <td>1.310459</td>\n",
       "      <td>0.750600</td>\n",
       "      <td>00:03</td>\n",
       "    </tr>\n",
       "    <tr>\n",
       "      <td>1</td>\n",
       "      <td>1.288122</td>\n",
       "      <td>1.214222</td>\n",
       "      <td>0.780900</td>\n",
       "      <td>00:03</td>\n",
       "    </tr>\n",
       "    <tr>\n",
       "      <td>2</td>\n",
       "      <td>1.215214</td>\n",
       "      <td>1.145665</td>\n",
       "      <td>0.790000</td>\n",
       "      <td>00:03</td>\n",
       "    </tr>\n",
       "    <tr>\n",
       "      <td>3</td>\n",
       "      <td>1.167688</td>\n",
       "      <td>1.134076</td>\n",
       "      <td>0.791800</td>\n",
       "      <td>00:02</td>\n",
       "    </tr>\n",
       "  </tbody>\n",
       "</table>"
      ],
      "text/plain": [
       "<IPython.core.display.HTML object>"
      ]
     },
     "metadata": {},
     "output_type": "display_data"
    },
    {
     "data": {
      "text/html": [
       "<table border=\"1\" class=\"dataframe\">\n",
       "  <thead>\n",
       "    <tr style=\"text-align: left;\">\n",
       "      <th>epoch</th>\n",
       "      <th>train_loss</th>\n",
       "      <th>valid_loss</th>\n",
       "      <th>accuracy</th>\n",
       "      <th>time</th>\n",
       "    </tr>\n",
       "  </thead>\n",
       "  <tbody>\n",
       "    <tr>\n",
       "      <td>0</td>\n",
       "      <td>1.138010</td>\n",
       "      <td>1.132172</td>\n",
       "      <td>0.792500</td>\n",
       "      <td>00:03</td>\n",
       "    </tr>\n",
       "    <tr>\n",
       "      <td>1</td>\n",
       "      <td>1.136868</td>\n",
       "      <td>1.131109</td>\n",
       "      <td>0.791800</td>\n",
       "      <td>00:02</td>\n",
       "    </tr>\n",
       "    <tr>\n",
       "      <td>2</td>\n",
       "      <td>1.137034</td>\n",
       "      <td>1.129260</td>\n",
       "      <td>0.791800</td>\n",
       "      <td>00:02</td>\n",
       "    </tr>\n",
       "    <tr>\n",
       "      <td>3</td>\n",
       "      <td>1.135239</td>\n",
       "      <td>1.133663</td>\n",
       "      <td>0.792500</td>\n",
       "      <td>00:02</td>\n",
       "    </tr>\n",
       "  </tbody>\n",
       "</table>"
      ],
      "text/plain": [
       "<IPython.core.display.HTML object>"
      ]
     },
     "metadata": {},
     "output_type": "display_data"
    },
    {
     "data": {
      "text/html": [
       "<table border=\"1\" class=\"dataframe\">\n",
       "  <thead>\n",
       "    <tr style=\"text-align: left;\">\n",
       "      <th>epoch</th>\n",
       "      <th>train_loss</th>\n",
       "      <th>valid_loss</th>\n",
       "      <th>accuracy</th>\n",
       "      <th>time</th>\n",
       "    </tr>\n",
       "  </thead>\n",
       "  <tbody>\n",
       "    <tr>\n",
       "      <td>0</td>\n",
       "      <td>1.123252</td>\n",
       "      <td>1.092348</td>\n",
       "      <td>0.793000</td>\n",
       "      <td>00:03</td>\n",
       "    </tr>\n",
       "    <tr>\n",
       "      <td>1</td>\n",
       "      <td>1.060517</td>\n",
       "      <td>0.987063</td>\n",
       "      <td>0.803200</td>\n",
       "      <td>00:03</td>\n",
       "    </tr>\n",
       "    <tr>\n",
       "      <td>2</td>\n",
       "      <td>0.991278</td>\n",
       "      <td>0.932353</td>\n",
       "      <td>0.806500</td>\n",
       "      <td>00:03</td>\n",
       "    </tr>\n",
       "    <tr>\n",
       "      <td>3</td>\n",
       "      <td>0.948642</td>\n",
       "      <td>0.916681</td>\n",
       "      <td>0.807500</td>\n",
       "      <td>00:03</td>\n",
       "    </tr>\n",
       "  </tbody>\n",
       "</table>"
      ],
      "text/plain": [
       "<IPython.core.display.HTML object>"
      ]
     },
     "metadata": {},
     "output_type": "display_data"
    }
   ],
   "source": [
    "model.fit(4,1e-3,moms=[0.3,.4])\n",
    "model.fit(4,1e-5,moms=[0.3,.4])\n",
    "model.fit(4,1e-3,moms=[0.3,.4])"
   ]
  },
  {
   "cell_type": "code",
   "execution_count": 247,
   "metadata": {},
   "outputs": [
    {
     "data": {
      "text/html": [
       "<div>\n",
       "<style>\n",
       "    .dataframe thead tr:only-child th {\n",
       "        text-align: right;\n",
       "    }\n",
       "\n",
       "    .dataframe thead th {\n",
       "        text-align: left;\n",
       "    }\n",
       "\n",
       "    .dataframe tbody tr th {\n",
       "        vertical-align: top;\n",
       "    }\n",
       "</style>\n",
       "<table border=\"1\" class=\"dataframe\">\n",
       "  <thead>\n",
       "    <tr style=\"text-align: right;\">\n",
       "      <th></th>\n",
       "      <th>freeze</th>\n",
       "      <th>lr</th>\n",
       "      <th>train_loss</th>\n",
       "      <th>valid_loss</th>\n",
       "      <th>accuracy</th>\n",
       "    </tr>\n",
       "  </thead>\n",
       "  <tbody>\n",
       "    <tr>\n",
       "      <th>0</th>\n",
       "      <td>Unfreeze</td>\n",
       "      <td>0.00100</td>\n",
       "      <td>1.6046</td>\n",
       "      <td>1.5507</td>\n",
       "      <td>0.6308</td>\n",
       "    </tr>\n",
       "    <tr>\n",
       "      <th>1</th>\n",
       "      <td>Unfreeze</td>\n",
       "      <td>0.00100</td>\n",
       "      <td>1.5297</td>\n",
       "      <td>1.4335</td>\n",
       "      <td>0.6725</td>\n",
       "    </tr>\n",
       "    <tr>\n",
       "      <th>2</th>\n",
       "      <td>Unfreeze</td>\n",
       "      <td>0.00100</td>\n",
       "      <td>1.4503</td>\n",
       "      <td>1.3722</td>\n",
       "      <td>0.7308</td>\n",
       "    </tr>\n",
       "    <tr>\n",
       "      <th>3</th>\n",
       "      <td>Unfreeze</td>\n",
       "      <td>0.00100</td>\n",
       "      <td>1.3999</td>\n",
       "      <td>1.3606</td>\n",
       "      <td>0.7417</td>\n",
       "    </tr>\n",
       "    <tr>\n",
       "      <th>4</th>\n",
       "      <td>Unfreeze</td>\n",
       "      <td>0.00001</td>\n",
       "      <td>1.3669</td>\n",
       "      <td>1.3603</td>\n",
       "      <td>0.7400</td>\n",
       "    </tr>\n",
       "    <tr>\n",
       "      <th>5</th>\n",
       "      <td>Unfreeze</td>\n",
       "      <td>0.00001</td>\n",
       "      <td>1.3663</td>\n",
       "      <td>1.3595</td>\n",
       "      <td>0.7411</td>\n",
       "    </tr>\n",
       "    <tr>\n",
       "      <th>6</th>\n",
       "      <td>Unfreeze</td>\n",
       "      <td>0.00001</td>\n",
       "      <td>1.3652</td>\n",
       "      <td>1.3584</td>\n",
       "      <td>0.7418</td>\n",
       "    </tr>\n",
       "    <tr>\n",
       "      <th>7</th>\n",
       "      <td>Unfreeze</td>\n",
       "      <td>0.00001</td>\n",
       "      <td>1.3647</td>\n",
       "      <td>1.3600</td>\n",
       "      <td>0.7422</td>\n",
       "    </tr>\n",
       "    <tr>\n",
       "      <th>8</th>\n",
       "      <td>Unfreeze</td>\n",
       "      <td>0.00100</td>\n",
       "      <td>1.3502</td>\n",
       "      <td>1.3105</td>\n",
       "      <td>0.7506</td>\n",
       "    </tr>\n",
       "    <tr>\n",
       "      <th>9</th>\n",
       "      <td>Unfreeze</td>\n",
       "      <td>0.00100</td>\n",
       "      <td>1.2881</td>\n",
       "      <td>1.2142</td>\n",
       "      <td>0.7809</td>\n",
       "    </tr>\n",
       "    <tr>\n",
       "      <th>10</th>\n",
       "      <td>Unfreeze</td>\n",
       "      <td>0.00100</td>\n",
       "      <td>1.2152</td>\n",
       "      <td>1.1457</td>\n",
       "      <td>0.7900</td>\n",
       "    </tr>\n",
       "    <tr>\n",
       "      <th>11</th>\n",
       "      <td>Unfreeze</td>\n",
       "      <td>0.00100</td>\n",
       "      <td>1.1677</td>\n",
       "      <td>1.1341</td>\n",
       "      <td>0.7918</td>\n",
       "    </tr>\n",
       "    <tr>\n",
       "      <th>12</th>\n",
       "      <td>Unfreeze</td>\n",
       "      <td>0.00001</td>\n",
       "      <td>1.1380</td>\n",
       "      <td>1.1322</td>\n",
       "      <td>0.7925</td>\n",
       "    </tr>\n",
       "    <tr>\n",
       "      <th>13</th>\n",
       "      <td>Unfreeze</td>\n",
       "      <td>0.00001</td>\n",
       "      <td>1.1369</td>\n",
       "      <td>1.1311</td>\n",
       "      <td>0.7918</td>\n",
       "    </tr>\n",
       "    <tr>\n",
       "      <th>14</th>\n",
       "      <td>Unfreeze</td>\n",
       "      <td>0.00001</td>\n",
       "      <td>1.1370</td>\n",
       "      <td>1.1293</td>\n",
       "      <td>0.7918</td>\n",
       "    </tr>\n",
       "    <tr>\n",
       "      <th>15</th>\n",
       "      <td>Unfreeze</td>\n",
       "      <td>0.00001</td>\n",
       "      <td>1.1352</td>\n",
       "      <td>1.1337</td>\n",
       "      <td>0.7925</td>\n",
       "    </tr>\n",
       "    <tr>\n",
       "      <th>16</th>\n",
       "      <td>Unfreeze</td>\n",
       "      <td>0.00100</td>\n",
       "      <td>1.1233</td>\n",
       "      <td>1.0923</td>\n",
       "      <td>0.7930</td>\n",
       "    </tr>\n",
       "    <tr>\n",
       "      <th>17</th>\n",
       "      <td>Unfreeze</td>\n",
       "      <td>0.00100</td>\n",
       "      <td>1.0605</td>\n",
       "      <td>0.9871</td>\n",
       "      <td>0.8032</td>\n",
       "    </tr>\n",
       "    <tr>\n",
       "      <th>18</th>\n",
       "      <td>Unfreeze</td>\n",
       "      <td>0.00100</td>\n",
       "      <td>0.9913</td>\n",
       "      <td>0.9324</td>\n",
       "      <td>0.8065</td>\n",
       "    </tr>\n",
       "    <tr>\n",
       "      <th>19</th>\n",
       "      <td>Unfreeze</td>\n",
       "      <td>0.00100</td>\n",
       "      <td>0.9486</td>\n",
       "      <td>0.9167</td>\n",
       "      <td>0.8075</td>\n",
       "    </tr>\n",
       "  </tbody>\n",
       "</table>\n",
       "</div>"
      ],
      "text/plain": [
       "      freeze       lr  train_loss  valid_loss  accuracy\n",
       "0   Unfreeze  0.00100      1.6046      1.5507    0.6308\n",
       "1   Unfreeze  0.00100      1.5297      1.4335    0.6725\n",
       "2   Unfreeze  0.00100      1.4503      1.3722    0.7308\n",
       "3   Unfreeze  0.00100      1.3999      1.3606    0.7417\n",
       "4   Unfreeze  0.00001      1.3669      1.3603    0.7400\n",
       "5   Unfreeze  0.00001      1.3663      1.3595    0.7411\n",
       "6   Unfreeze  0.00001      1.3652      1.3584    0.7418\n",
       "7   Unfreeze  0.00001      1.3647      1.3600    0.7422\n",
       "8   Unfreeze  0.00100      1.3502      1.3105    0.7506\n",
       "9   Unfreeze  0.00100      1.2881      1.2142    0.7809\n",
       "10  Unfreeze  0.00100      1.2152      1.1457    0.7900\n",
       "11  Unfreeze  0.00100      1.1677      1.1341    0.7918\n",
       "12  Unfreeze  0.00001      1.1380      1.1322    0.7925\n",
       "13  Unfreeze  0.00001      1.1369      1.1311    0.7918\n",
       "14  Unfreeze  0.00001      1.1370      1.1293    0.7918\n",
       "15  Unfreeze  0.00001      1.1352      1.1337    0.7925\n",
       "16  Unfreeze  0.00100      1.1233      1.0923    0.7930\n",
       "17  Unfreeze  0.00100      1.0605      0.9871    0.8032\n",
       "18  Unfreeze  0.00100      0.9913      0.9324    0.8065\n",
       "19  Unfreeze  0.00100      0.9486      0.9167    0.8075"
      ]
     },
     "execution_count": 247,
     "metadata": {},
     "output_type": "execute_result"
    }
   ],
   "source": [
    "model.read()"
   ]
  },
  {
   "cell_type": "code",
   "execution_count": null,
   "metadata": {
    "collapsed": true
   },
   "outputs": [],
   "source": []
  },
  {
   "cell_type": "code",
   "execution_count": null,
   "metadata": {
    "collapsed": true
   },
   "outputs": [],
   "source": []
  },
  {
   "cell_type": "code",
   "execution_count": null,
   "metadata": {
    "collapsed": true
   },
   "outputs": [],
   "source": []
  },
  {
   "cell_type": "code",
   "execution_count": null,
   "metadata": {
    "collapsed": true
   },
   "outputs": [],
   "source": []
  },
  {
   "cell_type": "code",
   "execution_count": null,
   "metadata": {
    "collapsed": true
   },
   "outputs": [],
   "source": []
  }
 ],
 "metadata": {
  "kernelspec": {
   "display_name": "Python 3",
   "language": "python",
   "name": "python3"
  },
  "language_info": {
   "codemirror_mode": {
    "name": "ipython",
    "version": 3
   },
   "file_extension": ".py",
   "mimetype": "text/x-python",
   "name": "python",
   "nbconvert_exporter": "python",
   "pygments_lexer": "ipython3",
   "version": "3.6.3"
  }
 },
 "nbformat": 4,
 "nbformat_minor": 2
}
