{
 "cells": [
  {
   "cell_type": "code",
   "execution_count": 2,
   "metadata": {
    "collapsed": true
   },
   "outputs": [],
   "source": [
    "from export import *"
   ]
  },
  {
   "cell_type": "code",
   "execution_count": 4,
   "metadata": {
    "collapsed": true
   },
   "outputs": [],
   "source": [
    "from pathlib import Path\n",
    "from IPython.core.debugger import set_trace\n",
    "from fastai import datasets\n",
    "import pickle,gzip,math,torch,matplotlib as mpl\n",
    "import matplotlib.pyplot as plt\n",
    "from torch import tensor"
   ]
  },
  {
   "cell_type": "code",
   "execution_count": 5,
   "metadata": {
    "collapsed": true
   },
   "outputs": [],
   "source": [
    "def get_data():\n",
    "    mnist_url='http://deeplearning.net/data/mnist/mnist.pkl'\n",
    "    path = datasets.download_data(mnist_url,ext='.gz')\n",
    "    with gzip.open(path,'rb') as f:\n",
    "        ((x_train, y_train), (x_valid,y_valid), _) = pickle.load(f,encoding='latin-1')\n",
    "    return map(tensor,(x_train,y_train,x_valid,y_valid))\n",
    "def normalize(x,m,s):\n",
    "    return (x-m)/s"
   ]
  },
  {
   "cell_type": "code",
   "execution_count": 6,
   "metadata": {
    "collapsed": true
   },
   "outputs": [],
   "source": [
    "x_train,y_train,x_valid,y_valid = get_data()\n",
    "y_train = y_train.float()\n",
    "y_valid = y_valid.float()\n",
    "m,s = x_train.mean(),x_train.std()\n",
    "x_train = normalize(x_train,m,s)\n",
    "x_valid = normalize(x_valid,m,s)\n",
    "n,c = x_train.shape\n",
    "n,c,m,s"
   ]
  },
  {
   "cell_type": "code",
   "execution_count": 11,
   "metadata": {
    "collapsed": true
   },
   "outputs": [],
   "source": [
    "class Relu():\n",
    "    def __call__(self,inp):\n",
    "        self.inp = inp\n",
    "        self.out = inp.clamp_min(0.)\n",
    "        return self.out\n",
    "    \n",
    "    def backward(self):\n",
    "        self.inp.g = (self.inp>0).float() * self.out.g\n",
    "        \n",
    "class Linear():\n",
    "    def __init__(self,w,b):\n",
    "        self.w = w\n",
    "        self.b = b\n",
    "        \n",
    "    def __call__(self,inp):\n",
    "        self.inp = inp\n",
    "        self.out = inp @ self.w + self.b\n",
    "        return self.out\n",
    "    \n",
    "    def backward(self):\n",
    "        self.inp.g =  self.out.g @ self.w.t()\n",
    "        self.w.g = self.inp.t() @ self.out.g\n",
    "        #self.w.g = torch.einsum(\"ki,kj->ij\",self.inp,self.out.g)\n",
    "        #self.w.g = (self.inp.unsqueeze(-1) * self.out.g.unsqueeze(1)).sum(0)\n",
    "        self.b.g = self.out.g.sum(0)\n",
    "\n",
    "class Mse():\n",
    "    def __call__(self,inp,targ):\n",
    "        self.inp = inp\n",
    "        self.targ = targ      \n",
    "        \n",
    "        self.out = (self.inp.squeeze(-1) - self.targ).pow(2).mean()\n",
    "        return self.out\n",
    "    \n",
    "    def backward(self):        \n",
    "        self.inp.g = 2 * (self.inp.squeeze(-1) - self.targ).unsqueeze(-1) / self.targ.shape[0]\n",
    "        \n",
    "        \n",
    "class Model():\n",
    "    def __init__(self,w1,b1,w2,b2):\n",
    "        self.layers = [Linear(w1,b1),Relu(),Linear(w2,b2)]\n",
    "        self.loss = Mse()\n",
    "        \n",
    "    def __call__(self,x,targ):\n",
    "        for l in self.layers:\n",
    "            x = l(x)\n",
    "        return self.loss(x,targ)\n",
    "    \n",
    "    def backward(self):\n",
    "        self.loss.backward()\n",
    "        for l in reversed(self.layers):\n",
    "            l.backward()\n",
    "        "
   ]
  },
  {
   "cell_type": "code",
   "execution_count": 12,
   "metadata": {},
   "outputs": [],
   "source": [
    "nh = 50\n",
    "#w1 = torch.randn(c,nh)*math.sqrt(2/c)\n",
    "w1=torch.zeros(c,nh)\n",
    "torch.nn.init.kaiming_normal_(w1,mode='fan_out')\n",
    "b1 = torch.zeros(nh)\n",
    "w2 = torch.randn(nh,1)*math.sqrt(2/nh)\n",
    "torch.nn.init.kaiming_normal_(w2,mode='fan_out')\n",
    "b2 = torch.zeros(1)"
   ]
  },
  {
   "cell_type": "code",
   "execution_count": 13,
   "metadata": {
    "collapsed": true
   },
   "outputs": [],
   "source": [
    "model = Model(w1,b1,w2,b2)"
   ]
  },
  {
   "cell_type": "code",
   "execution_count": 14,
   "metadata": {},
   "outputs": [
    {
     "name": "stdout",
     "output_type": "stream",
     "text": [
      "CPU times: user 247 ms, sys: 5.08 ms, total: 252 ms\n",
      "Wall time: 228 ms\n"
     ]
    }
   ],
   "source": [
    "%time loss = model(x_train,y_train.float())"
   ]
  },
  {
   "cell_type": "code",
   "execution_count": 15,
   "metadata": {},
   "outputs": [
    {
     "name": "stdout",
     "output_type": "stream",
     "text": [
      "CPU times: user 296 ms, sys: 113 ms, total: 409 ms\n",
      "Wall time: 181 ms\n"
     ]
    }
   ],
   "source": [
    "%time model.backward()"
   ]
  },
  {
   "cell_type": "code",
   "execution_count": null,
   "metadata": {
    "collapsed": true
   },
   "outputs": [],
   "source": []
  },
  {
   "cell_type": "code",
   "execution_count": null,
   "metadata": {
    "collapsed": true
   },
   "outputs": [],
   "source": []
  },
  {
   "cell_type": "code",
   "execution_count": null,
   "metadata": {
    "collapsed": true
   },
   "outputs": [],
   "source": []
  }
 ],
 "metadata": {
  "kernelspec": {
   "display_name": "Python 3",
   "language": "python",
   "name": "python3"
  },
  "language_info": {
   "codemirror_mode": {
    "name": "ipython",
    "version": 3
   },
   "file_extension": ".py",
   "mimetype": "text/x-python",
   "name": "python",
   "nbconvert_exporter": "python",
   "pygments_lexer": "ipython3",
   "version": "3.6.3"
  }
 },
 "nbformat": 4,
 "nbformat_minor": 2
}
